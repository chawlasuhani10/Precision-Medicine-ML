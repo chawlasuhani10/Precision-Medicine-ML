{
 "cells": [
  {
   "attachments": {},
   "cell_type": "markdown",
   "metadata": {},
   "source": [
    "### Precision Medicine using Machine Learning "
   ]
  },
  {
   "attachments": {},
   "cell_type": "markdown",
   "metadata": {},
   "source": [
    "Once sequenced, a cancer tumor can have thousands of genetic mutations. The time-consuming challenging part is to classify those mutations as tumor growth(drivers) or neutral mutations(passengers). This is a time-consuming and challenging task currently done manually by clinicans based on text-based clinical literature. \n",
    "\n",
    "This project uses an expert-annotated knowledge base released by Memorial Sloan Kettering Cancer Center (MSKCC) containing thousands of manually annotated mutations by onclogists. \n",
    "\n",
    "Objective: We need your help to develop a Machine Learning algorithm that, using this knowledge base as a baseline, automatically classifies genetic variations."
   ]
  },
  {
   "cell_type": "code",
   "execution_count": 1,
   "metadata": {},
   "outputs": [],
   "source": [
    "import numpy as np \n",
    "import pandas as pd\n",
    "import seaborn as sns\n",
    "import matplotlib.pyplot as plt\n",
    "import seaborn as sns\n",
    "import re\n",
    "#import warnings \n",
    "import math\n",
    "import nltk\n",
    "from nltk.corpus import stopwords"
   ]
  },
  {
   "cell_type": "markdown",
   "metadata": {},
   "source": [
    "Step 1: Loading Data "
   ]
  },
  {
   "cell_type": "code",
   "execution_count": 2,
   "metadata": {},
   "outputs": [
    {
     "data": {
      "text/html": [
       "<div>\n",
       "<style scoped>\n",
       "    .dataframe tbody tr th:only-of-type {\n",
       "        vertical-align: middle;\n",
       "    }\n",
       "\n",
       "    .dataframe tbody tr th {\n",
       "        vertical-align: top;\n",
       "    }\n",
       "\n",
       "    .dataframe thead th {\n",
       "        text-align: right;\n",
       "    }\n",
       "</style>\n",
       "<table border=\"1\" class=\"dataframe\">\n",
       "  <thead>\n",
       "    <tr style=\"text-align: right;\">\n",
       "      <th></th>\n",
       "      <th>ID</th>\n",
       "      <th>Gene</th>\n",
       "      <th>Variation</th>\n",
       "      <th>Class</th>\n",
       "    </tr>\n",
       "  </thead>\n",
       "  <tbody>\n",
       "    <tr>\n",
       "      <th>0</th>\n",
       "      <td>0</td>\n",
       "      <td>FAM58A</td>\n",
       "      <td>Truncating Mutations</td>\n",
       "      <td>1</td>\n",
       "    </tr>\n",
       "    <tr>\n",
       "      <th>1</th>\n",
       "      <td>1</td>\n",
       "      <td>CBL</td>\n",
       "      <td>W802*</td>\n",
       "      <td>2</td>\n",
       "    </tr>\n",
       "    <tr>\n",
       "      <th>2</th>\n",
       "      <td>2</td>\n",
       "      <td>CBL</td>\n",
       "      <td>Q249E</td>\n",
       "      <td>2</td>\n",
       "    </tr>\n",
       "    <tr>\n",
       "      <th>3</th>\n",
       "      <td>3</td>\n",
       "      <td>CBL</td>\n",
       "      <td>N454D</td>\n",
       "      <td>3</td>\n",
       "    </tr>\n",
       "    <tr>\n",
       "      <th>4</th>\n",
       "      <td>4</td>\n",
       "      <td>CBL</td>\n",
       "      <td>L399V</td>\n",
       "      <td>4</td>\n",
       "    </tr>\n",
       "  </tbody>\n",
       "</table>\n",
       "</div>"
      ],
      "text/plain": [
       "   ID    Gene             Variation  Class\n",
       "0   0  FAM58A  Truncating Mutations      1\n",
       "1   1     CBL                 W802*      2\n",
       "2   2     CBL                 Q249E      2\n",
       "3   3     CBL                 N454D      3\n",
       "4   4     CBL                 L399V      4"
      ]
     },
     "execution_count": 2,
     "metadata": {},
     "output_type": "execute_result"
    }
   ],
   "source": [
    "train_model_variants = pd.read_csv(r\"G:\\Shared drives\\Hack(Her)thon 2023 Project\\data\\training_variants\\training_variants\")\n",
    "train_model_variants.head()\n"
   ]
  },
  {
   "cell_type": "code",
   "execution_count": 3,
   "metadata": {},
   "outputs": [
    {
     "data": {
      "text/plain": [
       "(3321, 4)"
      ]
     },
     "execution_count": 3,
     "metadata": {},
     "output_type": "execute_result"
    }
   ],
   "source": [
    "train_model_variants.shape"
   ]
  },
  {
   "cell_type": "code",
   "execution_count": 4,
   "metadata": {},
   "outputs": [
    {
     "data": {
      "text/html": [
       "<div>\n",
       "<style scoped>\n",
       "    .dataframe tbody tr th:only-of-type {\n",
       "        vertical-align: middle;\n",
       "    }\n",
       "\n",
       "    .dataframe tbody tr th {\n",
       "        vertical-align: top;\n",
       "    }\n",
       "\n",
       "    .dataframe thead th {\n",
       "        text-align: right;\n",
       "    }\n",
       "</style>\n",
       "<table border=\"1\" class=\"dataframe\">\n",
       "  <thead>\n",
       "    <tr style=\"text-align: right;\">\n",
       "      <th></th>\n",
       "      <th>ID</th>\n",
       "      <th>Gene</th>\n",
       "      <th>Variation</th>\n",
       "    </tr>\n",
       "  </thead>\n",
       "  <tbody>\n",
       "    <tr>\n",
       "      <th>0</th>\n",
       "      <td>0</td>\n",
       "      <td>ACSL4</td>\n",
       "      <td>R570S</td>\n",
       "    </tr>\n",
       "    <tr>\n",
       "      <th>1</th>\n",
       "      <td>1</td>\n",
       "      <td>NAGLU</td>\n",
       "      <td>P521L</td>\n",
       "    </tr>\n",
       "    <tr>\n",
       "      <th>2</th>\n",
       "      <td>2</td>\n",
       "      <td>PAH</td>\n",
       "      <td>L333F</td>\n",
       "    </tr>\n",
       "    <tr>\n",
       "      <th>3</th>\n",
       "      <td>3</td>\n",
       "      <td>ING1</td>\n",
       "      <td>A148D</td>\n",
       "    </tr>\n",
       "    <tr>\n",
       "      <th>4</th>\n",
       "      <td>4</td>\n",
       "      <td>TMEM216</td>\n",
       "      <td>G77A</td>\n",
       "    </tr>\n",
       "  </tbody>\n",
       "</table>\n",
       "</div>"
      ],
      "text/plain": [
       "   ID     Gene Variation\n",
       "0   0    ACSL4     R570S\n",
       "1   1    NAGLU     P521L\n",
       "2   2      PAH     L333F\n",
       "3   3     ING1     A148D\n",
       "4   4  TMEM216      G77A"
      ]
     },
     "execution_count": 4,
     "metadata": {},
     "output_type": "execute_result"
    }
   ],
   "source": [
    "test_variants = pd.read_csv(r\"G:\\Shared drives\\Hack(Her)thon 2023 Project\\data\\test_variants\\test_variants\")\n",
    "test_variants.head()"
   ]
  },
  {
   "cell_type": "code",
   "execution_count": 5,
   "metadata": {},
   "outputs": [
    {
     "data": {
      "text/plain": [
       "(5668, 3)"
      ]
     },
     "execution_count": 5,
     "metadata": {},
     "output_type": "execute_result"
    }
   ],
   "source": [
    "test_variants.shape"
   ]
  },
  {
   "cell_type": "code",
   "execution_count": 6,
   "metadata": {},
   "outputs": [
    {
     "data": {
      "text/html": [
       "<div>\n",
       "<style scoped>\n",
       "    .dataframe tbody tr th:only-of-type {\n",
       "        vertical-align: middle;\n",
       "    }\n",
       "\n",
       "    .dataframe tbody tr th {\n",
       "        vertical-align: top;\n",
       "    }\n",
       "\n",
       "    .dataframe thead th {\n",
       "        text-align: right;\n",
       "    }\n",
       "</style>\n",
       "<table border=\"1\" class=\"dataframe\">\n",
       "  <thead>\n",
       "    <tr style=\"text-align: right;\">\n",
       "      <th></th>\n",
       "      <th>ID</th>\n",
       "      <th>Text</th>\n",
       "    </tr>\n",
       "  </thead>\n",
       "  <tbody>\n",
       "    <tr>\n",
       "      <th>0</th>\n",
       "      <td>0</td>\n",
       "      <td>Cyclin-dependent kinases (CDKs) regulate a var...</td>\n",
       "    </tr>\n",
       "    <tr>\n",
       "      <th>1</th>\n",
       "      <td>1</td>\n",
       "      <td>Abstract Background  Non-small cell lung canc...</td>\n",
       "    </tr>\n",
       "    <tr>\n",
       "      <th>2</th>\n",
       "      <td>2</td>\n",
       "      <td>Abstract Background  Non-small cell lung canc...</td>\n",
       "    </tr>\n",
       "    <tr>\n",
       "      <th>3</th>\n",
       "      <td>3</td>\n",
       "      <td>Recent evidence has demonstrated that acquired...</td>\n",
       "    </tr>\n",
       "    <tr>\n",
       "      <th>4</th>\n",
       "      <td>4</td>\n",
       "      <td>Oncogenic mutations in the monomeric Casitas B...</td>\n",
       "    </tr>\n",
       "  </tbody>\n",
       "</table>\n",
       "</div>"
      ],
      "text/plain": [
       "   ID                                               Text\n",
       "0   0  Cyclin-dependent kinases (CDKs) regulate a var...\n",
       "1   1   Abstract Background  Non-small cell lung canc...\n",
       "2   2   Abstract Background  Non-small cell lung canc...\n",
       "3   3  Recent evidence has demonstrated that acquired...\n",
       "4   4  Oncogenic mutations in the monomeric Casitas B..."
      ]
     },
     "execution_count": 6,
     "metadata": {},
     "output_type": "execute_result"
    }
   ],
   "source": [
    "train_model_text = pd.read_csv(r\"G:\\Shared drives\\Hack(Her)thon 2023 Project\\data\\training_text\\training_text\", sep=\"\\|\\|\", names=[\"ID\", \"Text\"], skiprows=1, engine=\"python\", encoding=\"latin-1\")\n",
    "train_model_text.head()\n"
   ]
  },
  {
   "cell_type": "code",
   "execution_count": 7,
   "metadata": {},
   "outputs": [
    {
     "data": {
      "text/html": [
       "<div>\n",
       "<style scoped>\n",
       "    .dataframe tbody tr th:only-of-type {\n",
       "        vertical-align: middle;\n",
       "    }\n",
       "\n",
       "    .dataframe tbody tr th {\n",
       "        vertical-align: top;\n",
       "    }\n",
       "\n",
       "    .dataframe thead th {\n",
       "        text-align: right;\n",
       "    }\n",
       "</style>\n",
       "<table border=\"1\" class=\"dataframe\">\n",
       "  <thead>\n",
       "    <tr style=\"text-align: right;\">\n",
       "      <th></th>\n",
       "      <th>ID</th>\n",
       "      <th>Text</th>\n",
       "    </tr>\n",
       "  </thead>\n",
       "  <tbody>\n",
       "    <tr>\n",
       "      <th>0</th>\n",
       "      <td>0</td>\n",
       "      <td>2. This mutation resulted in a myeloproliferat...</td>\n",
       "    </tr>\n",
       "    <tr>\n",
       "      <th>1</th>\n",
       "      <td>1</td>\n",
       "      <td>Abstract The Large Tumor Suppressor 1 (LATS1)...</td>\n",
       "    </tr>\n",
       "    <tr>\n",
       "      <th>2</th>\n",
       "      <td>2</td>\n",
       "      <td>Vascular endothelial growth factor receptor (V...</td>\n",
       "    </tr>\n",
       "    <tr>\n",
       "      <th>3</th>\n",
       "      <td>3</td>\n",
       "      <td>Inflammatory myofibroblastic tumor (IMT) is a ...</td>\n",
       "    </tr>\n",
       "    <tr>\n",
       "      <th>4</th>\n",
       "      <td>4</td>\n",
       "      <td>Abstract Retinoblastoma is a pediatric retina...</td>\n",
       "    </tr>\n",
       "  </tbody>\n",
       "</table>\n",
       "</div>"
      ],
      "text/plain": [
       "   ID                                               Text\n",
       "0   0  2. This mutation resulted in a myeloproliferat...\n",
       "1   1   Abstract The Large Tumor Suppressor 1 (LATS1)...\n",
       "2   2  Vascular endothelial growth factor receptor (V...\n",
       "3   3  Inflammatory myofibroblastic tumor (IMT) is a ...\n",
       "4   4   Abstract Retinoblastoma is a pediatric retina..."
      ]
     },
     "execution_count": 7,
     "metadata": {},
     "output_type": "execute_result"
    }
   ],
   "source": [
    "test_text = pd.read_csv(r\"G:\\Shared drives\\Hack(Her)thon 2023 Project\\data\\test_text\\test_text\", sep=\"\\|\\|\", names=[\"ID\", \"Text\"], skiprows=1, engine=\"python\", encoding=\"latin-1\")\n",
    "test_text.head()"
   ]
  },
  {
   "cell_type": "code",
   "execution_count": 8,
   "metadata": {},
   "outputs": [
    {
     "name": "stderr",
     "output_type": "stream",
     "text": [
      "[nltk_data] Downloading package stopwords to\n",
      "[nltk_data]     C:\\Users\\chawl\\AppData\\Roaming\\nltk_data...\n",
      "[nltk_data]   Package stopwords is already up-to-date!\n"
     ]
    }
   ],
   "source": [
    "#right not the training_text's 'TEXT' column needs cleaning so that it can be processed to look for data that indicates cancerous class\n",
    "\n",
    "#loading stop words from nltk library \n",
    "nltk.download('stopwords')\n",
    "stop_words = set(stopwords.words('english'))\n",
    "\n",
    "def cleaning_text(full_text, index, column):\n",
    "    if type(full_text) is not str:\n",
    "        full_text = str(full_text)\n",
    "    \n",
    "    new_text = \"\"\n",
    "    empty_string = ' '\n",
    "    full_text = re.sub('[^a-zA-Z0-9\\n]', empty_string, full_text)\n",
    "    full_text = re.sub('\\s+', empty_string, full_text)\n",
    "    full_text = full_text.lower()\n",
    "\n",
    "    for word in full_text.split():\n",
    "        if not word in stop_words:\n",
    "            new_text += word + \" \"\n",
    "    \n",
    "    train_model_text[column][index] = new_text"
   ]
  },
  {
   "cell_type": "code",
   "execution_count": 9,
   "metadata": {},
   "outputs": [
    {
     "name": "stderr",
     "output_type": "stream",
     "text": [
      "C:\\Users\\chawl\\AppData\\Local\\Temp\\ipykernel_21704\\3679951068.py:21: SettingWithCopyWarning: \n",
      "A value is trying to be set on a copy of a slice from a DataFrame\n",
      "\n",
      "See the caveats in the documentation: https://pandas.pydata.org/pandas-docs/stable/user_guide/indexing.html#returning-a-view-versus-a-copy\n",
      "  train_model_text[column][index] = new_text\n"
     ]
    },
    {
     "data": {
      "text/plain": [
       "str"
      ]
     },
     "execution_count": 9,
     "metadata": {},
     "output_type": "execute_result"
    }
   ],
   "source": [
    "#column 1109 in 'Text' created issues because it was null. And initial type float\n",
    "cleaning_text(train_model_text['Text'][1109], 1109, 'Text')\n",
    "type(train_model_text['Text'][1109])"
   ]
  },
  {
   "cell_type": "code",
   "execution_count": 10,
   "metadata": {},
   "outputs": [
    {
     "name": "stderr",
     "output_type": "stream",
     "text": [
      "C:\\Users\\chawl\\AppData\\Local\\Temp\\ipykernel_21704\\3679951068.py:21: SettingWithCopyWarning: \n",
      "A value is trying to be set on a copy of a slice from a DataFrame\n",
      "\n",
      "See the caveats in the documentation: https://pandas.pydata.org/pandas-docs/stable/user_guide/indexing.html#returning-a-view-versus-a-copy\n",
      "  train_model_text[column][index] = new_text\n"
     ]
    }
   ],
   "source": [
    "#processing all the text in the training set\n",
    "\n",
    "for index, row in train_model_text.iterrows():\n",
    "    cleaning_text(row['Text'], index, 'Text')"
   ]
  },
  {
   "cell_type": "code",
   "execution_count": 11,
   "metadata": {},
   "outputs": [
    {
     "data": {
      "text/html": [
       "<div>\n",
       "<style scoped>\n",
       "    .dataframe tbody tr th:only-of-type {\n",
       "        vertical-align: middle;\n",
       "    }\n",
       "\n",
       "    .dataframe tbody tr th {\n",
       "        vertical-align: top;\n",
       "    }\n",
       "\n",
       "    .dataframe thead th {\n",
       "        text-align: right;\n",
       "    }\n",
       "</style>\n",
       "<table border=\"1\" class=\"dataframe\">\n",
       "  <thead>\n",
       "    <tr style=\"text-align: right;\">\n",
       "      <th></th>\n",
       "      <th>ID</th>\n",
       "      <th>Gene</th>\n",
       "      <th>Variation</th>\n",
       "      <th>Class</th>\n",
       "      <th>Text</th>\n",
       "    </tr>\n",
       "  </thead>\n",
       "  <tbody>\n",
       "    <tr>\n",
       "      <th>0</th>\n",
       "      <td>0</td>\n",
       "      <td>FAM58A</td>\n",
       "      <td>Truncating Mutations</td>\n",
       "      <td>1</td>\n",
       "      <td>cyclin dependent kinases cdks regulate variety...</td>\n",
       "    </tr>\n",
       "    <tr>\n",
       "      <th>1</th>\n",
       "      <td>1</td>\n",
       "      <td>CBL</td>\n",
       "      <td>W802*</td>\n",
       "      <td>2</td>\n",
       "      <td>abstract background non small cell lung cancer...</td>\n",
       "    </tr>\n",
       "    <tr>\n",
       "      <th>2</th>\n",
       "      <td>2</td>\n",
       "      <td>CBL</td>\n",
       "      <td>Q249E</td>\n",
       "      <td>2</td>\n",
       "      <td>abstract background non small cell lung cancer...</td>\n",
       "    </tr>\n",
       "    <tr>\n",
       "      <th>3</th>\n",
       "      <td>3</td>\n",
       "      <td>CBL</td>\n",
       "      <td>N454D</td>\n",
       "      <td>3</td>\n",
       "      <td>recent evidence demonstrated acquired uniparen...</td>\n",
       "    </tr>\n",
       "    <tr>\n",
       "      <th>4</th>\n",
       "      <td>4</td>\n",
       "      <td>CBL</td>\n",
       "      <td>L399V</td>\n",
       "      <td>4</td>\n",
       "      <td>oncogenic mutations monomeric casitas b lineag...</td>\n",
       "    </tr>\n",
       "  </tbody>\n",
       "</table>\n",
       "</div>"
      ],
      "text/plain": [
       "   ID    Gene             Variation  Class  \\\n",
       "0   0  FAM58A  Truncating Mutations      1   \n",
       "1   1     CBL                 W802*      2   \n",
       "2   2     CBL                 Q249E      2   \n",
       "3   3     CBL                 N454D      3   \n",
       "4   4     CBL                 L399V      4   \n",
       "\n",
       "                                                Text  \n",
       "0  cyclin dependent kinases cdks regulate variety...  \n",
       "1  abstract background non small cell lung cancer...  \n",
       "2  abstract background non small cell lung cancer...  \n",
       "3  recent evidence demonstrated acquired uniparen...  \n",
       "4  oncogenic mutations monomeric casitas b lineag...  "
      ]
     },
     "execution_count": 11,
     "metadata": {},
     "output_type": "execute_result"
    }
   ],
   "source": [
    "#Merging Training Text and Training Variants\n",
    "training_dataframe = pd.merge(train_model_variants, train_model_text, on = \"ID\")\n",
    "training_dataframe.head()\n"
   ]
  },
  {
   "cell_type": "code",
   "execution_count": 12,
   "metadata": {},
   "outputs": [
    {
     "data": {
      "text/html": [
       "<div>\n",
       "<style scoped>\n",
       "    .dataframe tbody tr th:only-of-type {\n",
       "        vertical-align: middle;\n",
       "    }\n",
       "\n",
       "    .dataframe tbody tr th {\n",
       "        vertical-align: top;\n",
       "    }\n",
       "\n",
       "    .dataframe thead th {\n",
       "        text-align: right;\n",
       "    }\n",
       "</style>\n",
       "<table border=\"1\" class=\"dataframe\">\n",
       "  <thead>\n",
       "    <tr style=\"text-align: right;\">\n",
       "      <th></th>\n",
       "      <th>ID</th>\n",
       "      <th>Gene</th>\n",
       "      <th>Variation</th>\n",
       "      <th>Text</th>\n",
       "    </tr>\n",
       "  </thead>\n",
       "  <tbody>\n",
       "    <tr>\n",
       "      <th>0</th>\n",
       "      <td>0</td>\n",
       "      <td>ACSL4</td>\n",
       "      <td>R570S</td>\n",
       "      <td>2. This mutation resulted in a myeloproliferat...</td>\n",
       "    </tr>\n",
       "    <tr>\n",
       "      <th>1</th>\n",
       "      <td>1</td>\n",
       "      <td>NAGLU</td>\n",
       "      <td>P521L</td>\n",
       "      <td>Abstract The Large Tumor Suppressor 1 (LATS1)...</td>\n",
       "    </tr>\n",
       "    <tr>\n",
       "      <th>2</th>\n",
       "      <td>2</td>\n",
       "      <td>PAH</td>\n",
       "      <td>L333F</td>\n",
       "      <td>Vascular endothelial growth factor receptor (V...</td>\n",
       "    </tr>\n",
       "    <tr>\n",
       "      <th>3</th>\n",
       "      <td>3</td>\n",
       "      <td>ING1</td>\n",
       "      <td>A148D</td>\n",
       "      <td>Inflammatory myofibroblastic tumor (IMT) is a ...</td>\n",
       "    </tr>\n",
       "    <tr>\n",
       "      <th>4</th>\n",
       "      <td>4</td>\n",
       "      <td>TMEM216</td>\n",
       "      <td>G77A</td>\n",
       "      <td>Abstract Retinoblastoma is a pediatric retina...</td>\n",
       "    </tr>\n",
       "  </tbody>\n",
       "</table>\n",
       "</div>"
      ],
      "text/plain": [
       "   ID     Gene Variation                                               Text\n",
       "0   0    ACSL4     R570S  2. This mutation resulted in a myeloproliferat...\n",
       "1   1    NAGLU     P521L   Abstract The Large Tumor Suppressor 1 (LATS1)...\n",
       "2   2      PAH     L333F  Vascular endothelial growth factor receptor (V...\n",
       "3   3     ING1     A148D  Inflammatory myofibroblastic tumor (IMT) is a ...\n",
       "4   4  TMEM216      G77A   Abstract Retinoblastoma is a pediatric retina..."
      ]
     },
     "execution_count": 12,
     "metadata": {},
     "output_type": "execute_result"
    }
   ],
   "source": [
    "test_dataframe = pd.merge(test_variants, test_text, on = \"ID\")\n",
    "test_dataframe.head()"
   ]
  },
  {
   "cell_type": "code",
   "execution_count": 13,
   "metadata": {},
   "outputs": [
    {
     "name": "stderr",
     "output_type": "stream",
     "text": [
      "C:\\Users\\chawl\\AppData\\Local\\Temp\\ipykernel_21704\\736478266.py:2: FutureWarning: The default value of regex will change from True to False in a future version.\n",
      "  training_dataframe.Variation= training_dataframe.Variation.str.replace('\\s+', '_')\n"
     ]
    }
   ],
   "source": [
    "#fixing the variation column \n",
    "training_dataframe.Variation= training_dataframe.Variation.str.replace('\\s+', '_')"
   ]
  },
  {
   "attachments": {},
   "cell_type": "markdown",
   "metadata": {},
   "source": [
    "Step 2: Splitting the dataset for Training, Validation and Testing"
   ]
  },
  {
   "cell_type": "code",
   "execution_count": 14,
   "metadata": {},
   "outputs": [],
   "source": [
    "from sklearn.model_selection import train_test_split"
   ]
  },
  {
   "cell_type": "code",
   "execution_count": 15,
   "metadata": {},
   "outputs": [],
   "source": [
    "#split the class column from the dataframe since we are trying to predict it\n",
    "X = training_dataframe.copy()\n",
    "y = training_dataframe['Class'].values\n",
    "\n",
    "X_train, X_rem, y_train, y_rem = train_test_split(X, y, train_size = 0.8)\n",
    "\n",
    "X_vaildation, X_test, y_validation, y_test = train_test_split(X_rem, y_rem, test_size=0.5)"
   ]
  },
  {
   "cell_type": "code",
   "execution_count": 16,
   "metadata": {},
   "outputs": [
    {
     "name": "stdout",
     "output_type": "stream",
     "text": [
      "Number of records in training set: (2656, 5)\n",
      "Number of records in Cross validation set: (332, 5)\n",
      "Number of records in testing set: (333, 5)\n"
     ]
    }
   ],
   "source": [
    "print(\"Number of records in training set:\", X_train.shape)\n",
    "print(\"Number of records in Cross validation set:\", X_vaildation.shape)\n",
    "print(\"Number of records in testing set:\", X_test.shape)\n"
   ]
  },
  {
   "cell_type": "code",
   "execution_count": 17,
   "metadata": {},
   "outputs": [
    {
     "name": "stdout",
     "output_type": "stream",
     "text": [
      "Counter({7: 768, 4: 549, 1: 443, 2: 361, 6: 219, 5: 196, 3: 77, 9: 27, 8: 16})\n"
     ]
    }
   ],
   "source": [
    "import collections\n",
    "from collections import Counter\n",
    "z_train = y_train.tolist()\n",
    "d_train = Counter(z_train)\n",
    "print(d_train)"
   ]
  },
  {
   "cell_type": "code",
   "execution_count": 18,
   "metadata": {},
   "outputs": [
    {
     "name": "stdout",
     "output_type": "stream",
     "text": [
      "Counter({7: 28.91566265060241, 4: 20.670180722891565, 1: 16.67921686746988, 2: 13.591867469879517, 6: 8.245481927710843, 5: 7.379518072289157, 3: 2.8990963855421685, 9: 1.016566265060241, 8: 0.6024096385542169})\n",
      "<class 'collections.Counter'>\n",
      "Counter({7: 29.518072289156628, 1: 20.783132530120483, 4: 18.97590361445783, 2: 13.55421686746988, 5: 7.530120481927711, 6: 6.927710843373494, 3: 1.8072289156626506, 9: 0.6024096385542169, 8: 0.30120481927710846})\n",
      "Counter({7: 26.126126126126128, 4: 22.22222222222222, 1: 16.816816816816818, 2: 13.813813813813814, 6: 9.90990990990991, 5: 6.306306306306307, 9: 2.4024024024024024, 3: 1.8018018018018018, 8: 0.6006006006006006})\n"
     ]
    }
   ],
   "source": [
    "\n",
    "s = sum(d_train.values())\n",
    "for k,v in d_train.items():\n",
    "    pct = v* 100.0/s\n",
    "    d_train[k] = pct\n",
    "print(d_train)\n",
    "print(type(d_train))\n",
    "#print(d.values())\n",
    "\n",
    "z_cv = y_validation.tolist()\n",
    "d_cv = Counter(z_cv)\n",
    "s2 = sum(d_cv.values())\n",
    "for k,v in d_cv.items():\n",
    "    pct = v* 100.0/s2\n",
    "    d_cv[k] = pct\n",
    "print(d_cv)\n",
    "\n",
    "\n",
    "z_testing = y_test.tolist()\n",
    "d_testing = Counter(z_testing)\n",
    "\n",
    "s3 = sum(d_testing.values())\n",
    "for k,v in d_testing.items():\n",
    "    pct = v* 100.0/s3\n",
    "    d_testing[k] = pct\n",
    "print(d_testing)"
   ]
  },
  {
   "cell_type": "code",
   "execution_count": 19,
   "metadata": {},
   "outputs": [
    {
     "data": {
      "image/png": "[encoded data removed]",
      "text/plain": [
       "<Figure size 300x300 with 1 Axes>"
      ]
     },
     "metadata": {},
     "output_type": "display_data"
    },
    {
     "data": {
      "image/png": "[encoded data removed]",
      "text/plain": [
       "<Figure size 300x300 with 1 Axes>"
      ]
     },
     "metadata": {},
     "output_type": "display_data"
    },
    {
     "data": {
      "image/png": "[encoded data removed]",
      "text/plain": [
       "<Figure size 300x300 with 1 Axes>"
      ]
     },
     "metadata": {},
     "output_type": "display_data"
    }
   ],
   "source": [
    "#Distribution of classes across all 3 datsets: Training, cross validation and testing should be fair \n",
    "\n",
    "#1. training\n",
    "fig_train = plt.figure(figsize=(3,3))\n",
    "plt.bar(d_train.keys(), d_train.values(), color = 'pink', width = 0.5)\n",
    "plt.xlabel(\"Classes\")\n",
    "plt.ylabel(\"Total cases\")\n",
    "plt.title(\"Distribution of classes in the Training DataSet\")\n",
    "plt.show()\n",
    "\n",
    "#2. cross-validation\n",
    "fig_cv = plt.figure(figsize=(3,3))\n",
    "plt.bar(d_cv.keys(), d_cv.values(), color = 'pink', width = 0.5)\n",
    "plt.xlabel(\"Classes\")\n",
    "plt.ylabel(\"Total cases\")\n",
    "plt.title(\"Distribution of classes in the Cross-Validation DataSet\")\n",
    "plt.show()\n",
    "\n",
    "#3. testing\n",
    "fig = plt.figure(figsize=(3,3))\n",
    "plt.bar(d_testing.keys(), d_testing.values(), color = 'pink', width = 0.5)\n",
    "plt.xlabel(\"Classes\")\n",
    "plt.ylabel(\"Total cases\")\n",
    "plt.title(\"Distribution of classes in the Testing DataSet\")\n",
    "plt.show()\n"
   ]
  },
  {
   "attachments": {},
   "cell_type": "markdown",
   "metadata": {},
   "source": [
    "Setting performance Standards for the model: Log Loss\n",
    "\n",
    "For a multi-classification problem where each class has an equal probability of being classified, \n",
    "log_loss = -log(1/M)    where M is the number of classes\n",
    "-log(1/9) = 0.954\n",
    "\n",
    "But that is not the case here. As we saw from the graphs above, all 3 dataset are unequally distributed over classes. \n",
    "So, how do we calculate log-loss for imbalanced multi-class problem.\n",
    "\n",
    "By my calculation, the random guessing log-loss for this imbalanced multi class(K=9) problem comes out as 1.829\n",
    "Pictures of calculation on github.\n",
    "\n",
    "Therefore, our model has to do better than this i.e. logloss<1.829"
   ]
  },
  {
   "attachments": {},
   "cell_type": "markdown",
   "metadata": {},
   "source": [
    "### Univariate Analysis"
   ]
  },
  {
   "attachments": {},
   "cell_type": "markdown",
   "metadata": {},
   "source": [
    "##### Gene Feature"
   ]
  },
  {
   "cell_type": "code",
   "execution_count": 20,
   "metadata": {},
   "outputs": [
    {
     "name": "stdout",
     "output_type": "stream",
     "text": [
      "There are 244 different categories of genes in the training data\n",
      "Gene\n",
      "BRCA1      220\n",
      "TP53       117\n",
      "EGFR       113\n",
      "PTEN       106\n",
      "BRCA2       89\n",
      "          ... \n",
      "LATS1        1\n",
      "KLF4         1\n",
      "BCL2L11      1\n",
      "KDM6A        1\n",
      "FLT1         1\n",
      "Length: 244, dtype: int64\n"
     ]
    }
   ],
   "source": [
    "#unique, number of occuerences of each gene, cumulative distribution \n",
    "unique_genes =X_train.value_counts('Gene')   \n",
    "print(\"There are\", unique_genes.shape[0], \"different categories of genes in the training data\" )\n",
    "print(unique_genes)"
   ]
  },
  {
   "cell_type": "code",
   "execution_count": 21,
   "metadata": {},
   "outputs": [
    {
     "data": {
      "image/png": "[encoded data removed]",
      "text/plain": [
       "<Figure size 640x480 with 1 Axes>"
      ]
     },
     "metadata": {},
     "output_type": "display_data"
    }
   ],
   "source": [
    "s= sum(unique_genes.values)\n",
    "h = unique_genes.values/s\n",
    "plt.plot(h, label = \"Histogram of Genes\")\n",
    "plt.ylabel(\"Number of occurences\")\n",
    "plt.xlabel(\"Index of a gene\")\n",
    "plt.legend()\n",
    "plt.grid()\n",
    "plt.show()"
   ]
  },
  {
   "cell_type": "code",
   "execution_count": 22,
   "metadata": {},
   "outputs": [
    {
     "data": {
      "image/png": "[encoded data removed]",
      "text/plain": [
       "<Figure size 640x480 with 1 Axes>"
      ]
     },
     "metadata": {},
     "output_type": "display_data"
    },
    {
     "name": "stdout",
     "output_type": "stream",
     "text": [
      "Top 50 most frequent genes nearly contribute to 75% of data\n"
     ]
    }
   ],
   "source": [
    "cdf = np.cumsum(h)\n",
    "plt.plot(cdf, color =\"green\", label = \"Cumulative Distribution of Genes\")\n",
    "plt.legend()\n",
    "plt.grid()\n",
    "plt.show()\n",
    "print(\"Top 50 most frequent genes nearly contribute to 75% of data\")\n"
   ]
  },
  {
   "attachments": {},
   "cell_type": "markdown",
   "metadata": {},
   "source": [
    "Converting the genes into vectore by Response Coding and One-Hot Encoding\n"
   ]
  },
  {
   "cell_type": "code",
   "execution_count": 23,
   "metadata": {},
   "outputs": [
    {
     "name": "stdout",
     "output_type": "stream",
     "text": [
      "Here's the first 10 items in the Gene array after response coding: \n",
      "\n",
      "('BRCA1', [0.10560344827586207, 0.0021551724137931034, 0.034482758620689655, 0.07543103448275862, 0.17672413793103448, 0.09267241379310345, 0.0021551724137931034, 0.0021551724137931034, 0.0021551724137931034])\n",
      "('TP53', [0.1772853185595568, 0.00554016620498615, 0.00554016620498615, 0.1329639889196676, 0.008310249307479225, 0.0110803324099723, 0.002770083102493075, 0.002770083102493075, 0.002770083102493075])\n",
      "('EGFR', [0.0056022408963585435, 0.10084033613445378, 0.0028011204481792717, 0.014005602240896359, 0.011204481792717087, 0.0028011204481792717, 0.19607843137254902, 0.0056022408963585435, 0.0028011204481792717])\n",
      "('PTEN', [0.011428571428571429, 0.002857142857142857, 0.017142857142857144, 0.27714285714285714, 0.005714285714285714, 0.002857142857142857, 0.005714285714285714, 0.002857142857142857, 0.002857142857142857])\n",
      "('BRCA2', [0.02702702702702703, 0.003003003003003003, 0.003003003003003003, 0.009009009009009009, 0.03003003003003003, 0.2132132132132132, 0.003003003003003003, 0.003003003003003003, 0.003003003003003003])\n",
      "('KIT', [0.003076923076923077, 0.11076923076923077, 0.006153846153846154, 0.003076923076923077, 0.003076923076923077, 0.003076923076923077, 0.14153846153846153, 0.003076923076923077, 0.003076923076923077])\n",
      "('BRAF', [0.003205128205128205, 0.07371794871794872, 0.00641025641025641, 0.003205128205128205, 0.019230769230769232, 0.01282051282051282, 0.12179487179487179, 0.003205128205128205, 0.003205128205128205])\n",
      "('ERBB2', [0.006600660066006601, 0.039603960396039604, 0.0033003300330033004, 0.0165016501650165, 0.019801980198019802, 0.039603960396039604, 0.0891089108910891, 0.006600660066006601, 0.0033003300330033004])\n",
      "('ALK', [0.0033112582781456954, 0.026490066225165563, 0.026490066225165563, 0.0033112582781456954, 0.019867549668874173, 0.0033112582781456954, 0.13245033112582782, 0.0033112582781456954, 0.0033112582781456954])\n",
      "('PDGFRA', [0.006802721088435374, 0.013605442176870748, 0.030612244897959183, 0.006802721088435374, 0.017006802721088437, 0.003401360544217687, 0.11564625850340136, 0.003401360544217687, 0.003401360544217687])\n"
     ]
    }
   ],
   "source": [
    "#In Response Coding, each level of a categorical variable is assigned a probability value based \n",
    "#on the propoertion of positive class observations for that level.\n",
    "\n",
    "#response coding for a gene using laplace smoothing \n",
    "alpha = 1\n",
    "\n",
    "#Creating a mehtod for gene one-hot encoding that can be used for all 3 data sets \n",
    "def gene_response_coding(df):\n",
    "    gene_dict = dict()\n",
    "    values = df['Gene'].value_counts()\n",
    "    for gene, freq in values.items():\n",
    "        prob_vec = []\n",
    "        for cancer_class in range(1,10):\n",
    "            class_occurence = df.loc[(df['Class'] == cancer_class) & (df['Gene'] == gene)]\n",
    "            prob_vec.append((class_occurence.shape[0] + alpha)/(freq + (alpha * values.shape[0])))\n",
    "        gene_dict[gene] = prob_vec\n",
    "    \n",
    "    return gene_dict\n",
    "\n",
    "\n",
    "train_gene_responseCoding = gene_response_coding(X_train)\n",
    "cv_gene_responseCoding = gene_response_coding(X_vaildation)\n",
    "test_gene_responseCoding = gene_response_coding(X_test)\n",
    "print(\"Here's the first 10 items in the Gene array after response coding: \\n\")\n",
    "from itertools import islice\n",
    "n_items = list(islice(train_gene_responseCoding.items(), 10))\n",
    "for i in range(0,10):\n",
    "    print(n_items[i]) \n",
    "\n",
    "\n",
    "\n",
    "\n",
    "\n"
   ]
  },
  {
   "cell_type": "code",
   "execution_count": 24,
   "metadata": {},
   "outputs": [],
   "source": [
    "# So if you look at the first entry BRCA 1, its mutatations have the highest probability of being in class 5 \n",
    "#Then, the probability of the mutation falling under class 1, 4, 6 is nearly the same "
   ]
  },
  {
   "cell_type": "code",
   "execution_count": 25,
   "metadata": {},
   "outputs": [
    {
     "name": "stdout",
     "output_type": "stream",
     "text": [
      "The 'Gene' column of the training dataset once transformed using one hot encoding has shape:  (2656, 244)\n"
     ]
    }
   ],
   "source": [
    "\n",
    "#One Hot Encoding is a representation of categorical variables as binary vectors to be used in a machine learning model.\n",
    "\n",
    "from sklearn.preprocessing import OneHotEncoder\n",
    "encoder = OneHotEncoder(handle_unknown='ignore')\n",
    "train_gene_oneHotEncoding = encoder.fit_transform(X_train[['Gene']])\n",
    "cv_gene_oneHotEncoding = encoder.transform(X_vaildation[['Gene']])\n",
    "test_gene_oneHotEncoding = encoder.transform(X_test[['Gene']])\n",
    "\n",
    "print(\"The 'Gene' column of the training dataset once transformed using one hot encoding has shape: \", train_gene_oneHotEncoding.shape)"
   ]
  },
  {
   "cell_type": "code",
   "execution_count": 26,
   "metadata": {},
   "outputs": [
    {
     "name": "stdout",
     "output_type": "stream",
     "text": [
      "When model trained on just 'Gene' feature, the log loss for test data is  1.6249787609089872\n"
     ]
    },
    {
     "name": "stderr",
     "output_type": "stream",
     "text": [
      "c:\\Users\\chawl\\anaconda3\\lib\\site-packages\\sklearn\\model_selection\\_split.py:676: UserWarning: The least populated class in y has only 1 members, which is less than n_splits=5.\n",
      "  warnings.warn(\n"
     ]
    }
   ],
   "source": [
    "#Building a model just based on the gene feature \n",
    "from sklearn.linear_model import SGDClassifier\n",
    "from sklearn.calibration import CalibratedClassifierCV\n",
    "sgdc_gene_model = SGDClassifier()    # default method = 'sigmoid'  (logistic regression model) \n",
    "sgdc_gene_model.fit(train_gene_oneHotEncoding, y_train)\n",
    "\n",
    "#Calibrated Classification\n",
    "calibrator  = CalibratedClassifierCV(sgdc_gene_model)\n",
    "calibrator.fit(cv_gene_oneHotEncoding, y_validation)\n",
    "ypredict_cal_test = calibrator.predict_proba(test_gene_oneHotEncoding)  \n",
    "\n",
    "# printed for my own understanding \n",
    "#print(y_test)   \n",
    "#print(y_test.shape)\n",
    "#print(ypredict_cal_test[:, 1])\n",
    "#print(ypredict_cal_test[:, 1].shape)\n",
    "from sklearn.metrics import log_loss\n",
    "log_loss_test = log_loss(y_test, ypredict_cal_test, labels=sgdc_gene_model.classes_)\n",
    "print(\"When model trained on just 'Gene' feature, the log loss for test data is \", log_loss_test)\n",
    "\n",
    "\n"
   ]
  },
  {
   "cell_type": "code",
   "execution_count": 27,
   "metadata": {},
   "outputs": [
    {
     "name": "stdout",
     "output_type": "stream",
     "text": [
      "Number of unique genes in training set:  244\n",
      "Number of unique genes in cross-validation set  109\n",
      "Number of unique genes in testing set  109\n",
      "Percentage of genes in cross-validation set that have not been encountered in the training dataset =  11.926605504587156\n",
      "Percentage of genes in Testing set that have not been encountered in the training dataset =  6.422018348623854\n"
     ]
    }
   ],
   "source": [
    "#Question: How many genes in the cross-validation and testing set are the same unique_genes that were encountered in the training set? \n",
    "print(\"Number of unique genes in training set: \", unique_genes.shape[0])\n",
    "unique_genes_cv = X_vaildation['Gene'].value_counts()\n",
    "unique_genes_test = X_test['Gene'].value_counts()\n",
    "print(\"Number of unique genes in cross-validation set \", unique_genes_cv.shape[0])\n",
    "print(\"Number of unique genes in testing set \", unique_genes_test.shape[0])\n",
    "\n",
    "counter = 0\n",
    "\n",
    "for i in unique_genes_cv.index:\n",
    "    if i not in unique_genes.index:\n",
    "        counter +=1\n",
    "\n",
    "print(\"Percentage of genes in cross-validation set that have not been encountered in the training dataset = \", counter/unique_genes_cv.shape[0]*100)\n",
    "\n",
    "counter2 =0\n",
    "for i in unique_genes_test.index:\n",
    "    if i not in unique_genes.index:\n",
    "        counter2 +=1\n",
    "\n",
    "print(\"Percentage of genes in Testing set that have not been encountered in the training dataset = \", counter2/unique_genes_test.shape[0]*100)\n"
   ]
  },
  {
   "attachments": {},
   "cell_type": "markdown",
   "metadata": {},
   "source": [
    "Variation feature"
   ]
  },
  {
   "cell_type": "code",
   "execution_count": 28,
   "metadata": {},
   "outputs": [
    {
     "name": "stdout",
     "output_type": "stream",
     "text": [
      "Number of variations in training set:  2656\n",
      "Total number of unique variations in training set:  2406\n",
      "Top ten most frequently occuring variations are:\n",
      " Truncating_Mutations    70\n",
      "Amplification           59\n",
      "Deletion                57\n",
      "Fusions                 28\n",
      "Overexpression           5\n",
      "G12V                     4\n",
      "Q61L                     3\n",
      "E17K                     3\n",
      "F384L                    2\n",
      "Q209L                    2\n",
      "Name: Variation, dtype: int64\n"
     ]
    }
   ],
   "source": [
    "#Number of unique variations \n",
    "\n",
    "print(\"Number of variations in training set: \", X_train['Variation'].shape[0])\n",
    "unique_variations = X_train['Variation'].value_counts()\n",
    "print(\"Total number of unique variations in training set: \", unique_variations.shape[0])\n",
    "print(\"Top ten most frequently occuring variations are:\\n\", unique_variations.head(10))"
   ]
  },
  {
   "cell_type": "code",
   "execution_count": 29,
   "metadata": {},
   "outputs": [
    {
     "name": "stdout",
     "output_type": "stream",
     "text": [
      "Percentage of variations in cross-validation set that have not been encountered in the training dataset =  96.36963696369637\n",
      "Percentage of variations in cross-validation set that have not been encountered in the training dataset =  96.45161290322581\n"
     ]
    }
   ],
   "source": [
    "#Overlap between training, CV, and Testing set \n",
    "unique_variations_cv = X_vaildation['Variation'].value_counts()\n",
    "\n",
    "counter3 =0\n",
    "for i in unique_variations_cv.index:\n",
    "    if i not in unique_variations.index:\n",
    "        counter3 +=1\n",
    "\n",
    "print(\"Percentage of variations in cross-validation set that have not been encountered in the training dataset = \", (counter3/unique_variations_cv.shape[0])*100)\n",
    "\n",
    "unique_variations_test = X_test['Variation'].value_counts()\n",
    "\n",
    "counter4 =0\n",
    "for i in unique_variations_test.index:\n",
    "    if i not in unique_variations.index:\n",
    "        counter4 +=1\n",
    "\n",
    "print(\"Percentage of variations in cross-validation set that have not been encountered in the training dataset = \", (counter4/unique_variations_test.shape[0])*100)\n",
    "\n",
    "\n"
   ]
  },
  {
   "cell_type": "code",
   "execution_count": 30,
   "metadata": {},
   "outputs": [
    {
     "data": {
      "image/png": "[encoded data removed]",
      "text/plain": [
       "<Figure size 640x480 with 1 Axes>"
      ]
     },
     "metadata": {},
     "output_type": "display_data"
    }
   ],
   "source": [
    "#histogram to see frequency of variations\n",
    "s2= sum(unique_variations.values)\n",
    "h2 = unique_variations.values/s2\n",
    "plt.plot(h2, label = \"Histogram of Variations\")\n",
    "plt.ylabel(\"Number of occurences\")\n",
    "plt.xlabel(\"Index of a Variation\")\n",
    "plt.legend()\n",
    "plt.grid()\n",
    "plt.show()"
   ]
  },
  {
   "cell_type": "code",
   "execution_count": 31,
   "metadata": {},
   "outputs": [
    {
     "data": {
      "image/png": "[encoded data removed]",
      "text/plain": [
       "<Figure size 640x480 with 1 Axes>"
      ]
     },
     "metadata": {},
     "output_type": "display_data"
    },
    {
     "name": "stdout",
     "output_type": "stream",
     "text": [
      "Constant growth of cdf graph, meaning almost all genes contribute equally to the dataset\n"
     ]
    }
   ],
   "source": [
    "#cumulative distribution of variations \n",
    "cdf2 = np.cumsum(h2)\n",
    "plt.plot(cdf2, color =\"green\", label = \"Cumulative Distribution of Variations\")\n",
    "plt.legend()\n",
    "plt.grid()\n",
    "plt.show()\n",
    "print(\"Constant growth of cdf graph, meaning almost all genes contribute equally to the dataset\")"
   ]
  },
  {
   "cell_type": "code",
   "execution_count": 32,
   "metadata": {},
   "outputs": [
    {
     "name": "stdout",
     "output_type": "stream",
     "text": [
      "Here's the first 10 items in the Variation array after response coding: \n",
      "\n",
      "('Truncating_Mutations', [0.027463651050080775, 0.0008077544426494346, 0.0004038772213247173, 0.0008077544426494346, 0.0004038772213247173, 0.0008077544426494346, 0.0004038772213247173, 0.0004038772213247173, 0.0004038772213247173])\n",
      "('Amplification', [0.00040567951318458417, 0.008113590263691683, 0.00040567951318458417, 0.00040567951318458417, 0.00040567951318458417, 0.004056795131845842, 0.012981744421906694, 0.00040567951318458417, 0.00040567951318458417])\n",
      "('Deletion', [0.017864393016646368, 0.0004060089321965083, 0.0004060089321965083, 0.005684125050751117, 0.0004060089321965083, 0.0008120178643930166, 0.0004060089321965083, 0.0004060089321965083, 0.0004060089321965083])\n",
      "('Fusions', [0.0012325390304026294, 0.010682004930156122, 0.0004108463434675431, 0.0004108463434675431, 0.0004108463434675431, 0.0004108463434675431, 0.0004108463434675431, 0.0008216926869350862, 0.0004108463434675431])\n",
      "('Overexpression', [0.00041476565740356696, 0.001244296972210701, 0.00041476565740356696, 0.00041476565740356696, 0.00041476565740356696, 0.00041476565740356696, 0.0016590626296142678, 0.00041476565740356696, 0.00041476565740356696])\n",
      "('G12V', [0.0004149377593360996, 0.0004149377593360996, 0.0004149377593360996, 0.0004149377593360996, 0.0004149377593360996, 0.0004149377593360996, 0.002074688796680498, 0.0004149377593360996, 0.0004149377593360996])\n",
      "('Q61L', [0.00041511000415110004, 0.00041511000415110004, 0.00041511000415110004, 0.00041511000415110004, 0.00041511000415110004, 0.00041511000415110004, 0.0016604400166044002, 0.00041511000415110004, 0.00041511000415110004])\n",
      "('E17K', [0.00041511000415110004, 0.00041511000415110004, 0.00041511000415110004, 0.00041511000415110004, 0.00041511000415110004, 0.00041511000415110004, 0.0016604400166044002, 0.00041511000415110004, 0.00041511000415110004])\n",
      "('F384L', [0.0004152823920265781, 0.0008305647840531562, 0.0004152823920265781, 0.0004152823920265781, 0.0008305647840531562, 0.0004152823920265781, 0.0004152823920265781, 0.0004152823920265781, 0.0004152823920265781])\n",
      "('Q209L', [0.0004152823920265781, 0.0004152823920265781, 0.0004152823920265781, 0.0004152823920265781, 0.0004152823920265781, 0.0004152823920265781, 0.0012458471760797341, 0.0004152823920265781, 0.0004152823920265781])\n",
      "\n",
      "\n",
      "From the first 10 variations shown above, we can see that if it is a Truncating Mutation, it has the highest probability to belong to class 1\n"
     ]
    }
   ],
   "source": [
    "#Response Coding of variations\n",
    "def variation_response_coding(df):\n",
    "    var_dict = dict()\n",
    "    values = df['Variation'].value_counts()\n",
    "    for var, freq in values.items():\n",
    "        prob_vec = []\n",
    "        for cancer_class in range(1,10):\n",
    "            class_occurence = df.loc[(df['Class'] == cancer_class) & (df['Variation'] == var)]\n",
    "            prob_vec.append((class_occurence.shape[0] + alpha)/(freq + (alpha * values.shape[0])))\n",
    "        var_dict[var] = prob_vec\n",
    "    \n",
    "    return var_dict\n",
    "\n",
    "\n",
    "train_var_responseCoding = variation_response_coding(X_train)\n",
    "cv_var_responseCoding = variation_response_coding(X_vaildation)\n",
    "test_var_responseCoding = variation_response_coding(X_test)\n",
    "print(\"Here's the first 10 items in the Variation array after response coding: \\n\")\n",
    "from itertools import islice\n",
    "n_items2 = list(islice(train_var_responseCoding.items(), 10))\n",
    "for i in range(0,10):\n",
    "    print(n_items2[i]) \n",
    "\n",
    "print(\"\\n\")\n",
    "print(\"From the first 10 variations shown above, we can see that if it is a Truncating Mutation, it has the highest probability to belong to class 1\")"
   ]
  },
  {
   "cell_type": "code",
   "execution_count": 33,
   "metadata": {},
   "outputs": [
    {
     "name": "stdout",
     "output_type": "stream",
     "text": [
      "The 'Variation' column of the training dataset once transformed using one hot encoding has shape:  (2656, 2406) \n",
      "\n",
      "Printing the first row: \n",
      "  (0, 1765)\t1.0\n"
     ]
    }
   ],
   "source": [
    "#one-hot encoding of variations \n",
    "\n",
    "train_var_oneHotEncoding = encoder.fit_transform(X_train[['Variation']])\n",
    "cv_var_oneHotEncoding = encoder.transform(X_vaildation[['Variation']])\n",
    "test_var_oneHotEncoding = encoder.transform(X_test[['Variation']])\n",
    "\n",
    "\n",
    "print(\"The 'Variation' column of the training dataset once transformed using one hot encoding has shape: \", train_var_oneHotEncoding.shape, \"\\n\")\n",
    "print(\"Printing the first row: \")\n",
    "print(train_var_oneHotEncoding[1])"
   ]
  },
  {
   "cell_type": "code",
   "execution_count": 34,
   "metadata": {},
   "outputs": [
    {
     "name": "stdout",
     "output_type": "stream",
     "text": [
      "When model trained on just 'Variation' feature, the log loss for test data is  1.799630234372917\n"
     ]
    },
    {
     "name": "stderr",
     "output_type": "stream",
     "text": [
      "c:\\Users\\chawl\\anaconda3\\lib\\site-packages\\sklearn\\model_selection\\_split.py:676: UserWarning: The least populated class in y has only 1 members, which is less than n_splits=5.\n",
      "  warnings.warn(\n"
     ]
    }
   ],
   "source": [
    "#Building a model just based on 'Variation' feature and seeing how effective it is in prediciting 'Class'\n",
    "#for future purposes, alpha could be varied to see how the model performance increases or decreses, but for my first project I'll just go with default alpha = 0.0001\n",
    "\n",
    "sgdc_var_model = SGDClassifier()    # default method = 'sigmoid'  (logistic regression model) \n",
    "sgdc_var_model.fit(train_var_oneHotEncoding, y_train)\n",
    "\n",
    "#Calibrated Classification\n",
    "calibrator2  = CalibratedClassifierCV(sgdc_var_model)\n",
    "calibrator2.fit(cv_var_oneHotEncoding, y_validation)\n",
    "ypredict_cal_test2 = calibrator2.predict_proba(test_var_oneHotEncoding)  \n",
    "\n",
    "log_loss_test_var = log_loss(y_test, ypredict_cal_test2, labels=sgdc_var_model.classes_)\n",
    "print(\"When model trained on just 'Variation' feature, the log loss for test data is \", log_loss_test_var)"
   ]
  },
  {
   "attachments": {},
   "cell_type": "markdown",
   "metadata": {},
   "source": [
    "'Text' Feature "
   ]
  },
  {
   "cell_type": "code",
   "execution_count": 35,
   "metadata": {},
   "outputs": [
    {
     "name": "stdout",
     "output_type": "stream",
     "text": [
      "Total number of unique words in training set:  138265\n",
      "Total number of unique words in cross-validation set:  54558\n",
      "Total number of unique words in testing set:  53565 \n",
      "\n",
      "Percentage of words in cross-validation set that have not been encountered in the training dataset =  14.10059019758789\n",
      "Percentage of words in testing set that have not been encountered in the training dataset =  14.177167926817885\n"
     ]
    }
   ],
   "source": [
    "#Overlap between Train, CV and Test set \n",
    "\n",
    "from sklearn.feature_extraction.text import TfidfVectorizer, CountVectorizer\n",
    "\n",
    "train_text_allwords = CountVectorizer()\n",
    "train_text_allwords_vec = train_text_allwords.fit_transform(X_train['Text'])\n",
    "print(\"Total number of unique words in training set: \", len(train_text_allwords.vocabulary_))\n",
    "\n",
    "text_cv_vectorizer = CountVectorizer()\n",
    "validation_text_onehotencoding  = text_cv_vectorizer.fit_transform(X_vaildation['Text'])\n",
    "print(\"Total number of unique words in cross-validation set: \", len(text_cv_vectorizer.vocabulary_))\n",
    "\n",
    "text_test_vectorizer = CountVectorizer()\n",
    "test_text_onehotencoding  = text_test_vectorizer.fit_transform(X_test['Text'])\n",
    "print(\"Total number of unique words in testing set: \", len(text_test_vectorizer.vocabulary_), \"\\n\")\n",
    "\n",
    "counter5 =0\n",
    "for i in text_cv_vectorizer.vocabulary_.keys():\n",
    "    if i not in train_text_allwords.vocabulary_.keys():\n",
    "        counter5 +=1\n",
    "\n",
    "#print(counter5)\n",
    "\n",
    "print(\"Percentage of words in cross-validation set that have not been encountered in the training dataset = \", (counter5/len(text_cv_vectorizer.vocabulary_))*100)\n",
    "\n",
    "\n",
    "counter6 =0\n",
    "for i in text_test_vectorizer.vocabulary_.keys():\n",
    "    if i not in train_text_allwords.vocabulary_.keys():\n",
    "        counter6 +=1\n",
    "\n",
    "\n",
    "print(\"Percentage of words in testing set that have not been encountered in the training dataset = \", (counter6/len(text_test_vectorizer.vocabulary_))*100)\n"
   ]
  },
  {
   "cell_type": "code",
   "execution_count": 36,
   "metadata": {},
   "outputs": [
    {
     "name": "stderr",
     "output_type": "stream",
     "text": [
      "c:\\Users\\chawl\\anaconda3\\lib\\site-packages\\sklearn\\utils\\deprecation.py:87: FutureWarning: Function get_feature_names is deprecated; get_feature_names is deprecated in 1.0 and will be removed in 1.2. Please use get_feature_names_out instead.\n",
      "  warnings.warn(msg, category=FutureWarning)\n"
     ]
    },
    {
     "name": "stdout",
     "output_type": "stream",
     "text": [
      "Total number of unique words that occured atleast 5 times in training set:  43391\n"
     ]
    }
   ],
   "source": [
    "# one-hot encoding \n",
    "#for words that occured atleast five times in the dataset \n",
    "\n",
    "\n",
    "#building TfidVectorizer with all words that occured min 5 times in training data\n",
    "\n",
    "text_vectorizer = TfidfVectorizer(min_df =5, binary=True, use_idf=True)\n",
    "train_text_onehotencoding = text_vectorizer.fit_transform(X_train['Text'])\n",
    "# getting all the feature names (words)\n",
    "train_text_features= text_vectorizer.get_feature_names()\n",
    "print(\"Total number of unique words that occured atleast 5 times in training set: \", len(train_text_features))\n",
    "\n",
    "cv_text_onehotencoding = text_vectorizer.transform(X_vaildation['Text'])\n",
    "\n",
    "test_text_onehotencoding = text_vectorizer.transform(X_test['Text'])\n",
    "\n",
    "\n",
    "#normalizing to [0,1]\n",
    "from sklearn.preprocessing import normalize\n",
    "train_text_onehotencoding = normalize(train_text_onehotencoding, axis =0)\n",
    "cv_text_onehotencoding = normalize(cv_text_onehotencoding, axis =0)\n",
    "test_text_onehotencoding = normalize(test_text_onehotencoding, axis =0)\n"
   ]
  },
  {
   "cell_type": "code",
   "execution_count": 37,
   "metadata": {},
   "outputs": [
    {
     "name": "stdout",
     "output_type": "stream",
     "text": [
      "When model trained on just 'Text' feature, the log loss for test data is  1.3097283788034129\n"
     ]
    }
   ],
   "source": [
    "#building a model based on just 'Text' feature to see how well it is able to predict class\n",
    "\n",
    "sgdc_text_model = SGDClassifier(loss = 'log', random_state=42, penalty=\"l2\")    # default method = 'sigmoid'  (logistic regression model) \n",
    "sgdc_text_model.fit(train_text_onehotencoding, y_train)\n",
    "\n",
    "#Calibrated Classification\n",
    "calibrator3  = CalibratedClassifierCV(sgdc_text_model, method = 'sigmoid')\n",
    "calibrator3.fit(train_text_onehotencoding, y_train)\n",
    "predict_y = calibrator3.predict_proba(cv_text_onehotencoding)  \n",
    "\n",
    "log_loss_test_text = log_loss(y_validation, predict_y, labels=sgdc_text_model.classes_)\n",
    "print(\"When model trained on just 'Text' feature, the log loss for test data is \", log_loss_test_text)"
   ]
  },
  {
   "attachments": {},
   "cell_type": "markdown",
   "metadata": {},
   "source": [
    "Stacking all 3 features to prepare for model "
   ]
  },
  {
   "cell_type": "code",
   "execution_count": 38,
   "metadata": {},
   "outputs": [
    {
     "name": "stdout",
     "output_type": "stream",
     "text": [
      "(2656, 244)\n",
      "<class 'scipy.sparse.csr.csr_matrix'>\n",
      "(2656, 2406)\n",
      "<class 'scipy.sparse.csr.csr_matrix'>\n"
     ]
    }
   ],
   "source": [
    "print(train_gene_oneHotEncoding.shape)\n",
    "print(type(train_gene_oneHotEncoding))\n",
    "print(train_var_oneHotEncoding.shape)\n",
    "print(type(train_var_oneHotEncoding))"
   ]
  },
  {
   "cell_type": "code",
   "execution_count": 39,
   "metadata": {},
   "outputs": [],
   "source": [
    "from scipy.sparse import hstack\n",
    "\n",
    "train_gv_ohc = hstack((train_var_oneHotEncoding, train_gene_oneHotEncoding))\n",
    "cv_gv_ohc = hstack((cv_gene_oneHotEncoding, cv_var_oneHotEncoding))\n",
    "test_gv_ohc = hstack((test_gene_oneHotEncoding, test_var_oneHotEncoding))\n",
    "\n",
    "train_X_onehotencoding = hstack((train_gv_ohc, train_text_onehotencoding))\n",
    "\n",
    "cv_X_onehotencoding = hstack((cv_gv_ohc, cv_text_onehotencoding))\n",
    "\n",
    "test_X_onehotencoding = hstack((test_gv_ohc, test_text_onehotencoding))\n"
   ]
  },
  {
   "cell_type": "code",
   "execution_count": 40,
   "metadata": {},
   "outputs": [
    {
     "name": "stdout",
     "output_type": "stream",
     "text": [
      "(Number of records, number of features) in the final dataset use for training is:  (2656, 46041)\n",
      "(Number of records, number of features) in the final dataset use for cross-validation is:  (332, 46041)\n",
      "(Number of records, number of features) in the final dataset use for testing is:  (333, 46041)\n"
     ]
    }
   ],
   "source": [
    "#Final dataset features \n",
    "\n",
    "print(\"(Number of records, number of features) in the final dataset use for training is: \", train_X_onehotencoding.shape)\n",
    "print(\"(Number of records, number of features) in the final dataset use for cross-validation is: \", cv_X_onehotencoding.shape)\n",
    "print(\"(Number of records, number of features) in the final dataset use for testing is: \", test_X_onehotencoding.shape)"
   ]
  },
  {
   "attachments": {},
   "cell_type": "markdown",
   "metadata": {},
   "source": [
    "#### Machine Learning Models"
   ]
  },
  {
   "attachments": {},
   "cell_type": "markdown",
   "metadata": {},
   "source": [
    "Linear Support Vector Machine "
   ]
  },
  {
   "cell_type": "code",
   "execution_count": 41,
   "metadata": {},
   "outputs": [
    {
     "name": "stdout",
     "output_type": "stream",
     "text": [
      "Log Loss with Support Vector Machine on Training set:  0.49413293509235245\n",
      "Log Loss with Support Vector Machine on Cross-Validatiob set:  1.379463690206224\n",
      "Log Loss with Support Vector Machine on Testing set:  1.2134525598397619\n"
     ]
    }
   ],
   "source": [
    "svm = SGDClassifier(loss='hinge', random_state=42) \n",
    "#loss ='hinge' gives linear SVM\n",
    "#default penalty='l2' which is the standard regulizer for SVM \n",
    "\n",
    "svm.fit(train_X_onehotencoding, y_train)\n",
    "calibrated_svm = CalibratedClassifierCV(svm, method= 'sigmoid')\n",
    "calibrated_svm.fit(train_X_onehotencoding, y_train)\n",
    "calibrated_svm_cv_predict = calibrated_svm.predict_proba(cv_X_onehotencoding)\n",
    "calibrated_svm_train_predict = calibrated_svm.predict_proba(train_X_onehotencoding)\n",
    "calibrated_svm_test_predict = calibrated_svm.predict_proba(test_X_onehotencoding)\n",
    "log_loss_svm_cv = log_loss(y_validation, calibrated_svm_cv_predict)\n",
    "log_loss_svm_train = log_loss(y_train, calibrated_svm_train_predict)\n",
    "log_loss_svm_test = log_loss(y_test, calibrated_svm_test_predict)\n",
    "\n",
    "\n",
    "print(\"Log Loss with Support Vector Machine on Training set: \", log_loss_svm_train)\n",
    "print(\"Log Loss with Support Vector Machine on Cross-Validatiob set: \", log_loss_svm_cv)\n",
    "print(\"Log Loss with Support Vector Machine on Testing set: \", log_loss_svm_test)\n",
    "\n",
    "\n"
   ]
  },
  {
   "attachments": {},
   "cell_type": "markdown",
   "metadata": {},
   "source": [
    "##### Evaluating The SVM Model Performance "
   ]
  },
  {
   "cell_type": "code",
   "execution_count": 42,
   "metadata": {},
   "outputs": [
    {
     "name": "stdout",
     "output_type": "stream",
     "text": [
      "              precision    recall  f1-score   support\n",
      "\n",
      "           1       0.74      0.45      0.56        56\n",
      "           2       0.72      0.46      0.56        46\n",
      "           3       0.33      0.33      0.33         6\n",
      "           4       0.64      0.76      0.70        74\n",
      "           5       0.41      0.33      0.37        21\n",
      "           6       0.81      0.64      0.71        33\n",
      "           7       0.63      0.91      0.74        87\n",
      "           8       0.00      0.00      0.00         2\n",
      "           9       0.71      0.62      0.67         8\n",
      "\n",
      "    accuracy                           0.65       333\n",
      "   macro avg       0.56      0.50      0.51       333\n",
      "weighted avg       0.66      0.65      0.63       333\n",
      "\n"
     ]
    }
   ],
   "source": [
    "from sklearn.metrics import classification_report\n",
    "\n",
    "y_test_predict = calibrated_svm.predict(test_X_onehotencoding)\n",
    "print(classification_report(y_test, y_test_predict, zero_division =0))"
   ]
  },
  {
   "cell_type": "code",
   "execution_count": 63,
   "metadata": {},
   "outputs": [
    {
     "data": {
      "image/png": "[encoded data removed]",
      "text/plain": [
       "<Figure size 640x480 with 2 Axes>"
      ]
     },
     "metadata": {},
     "output_type": "display_data"
    }
   ],
   "source": [
    "from  sklearn.metrics import plot_confusion_matrix, confusion_matrix,ConfusionMatrixDisplay\n",
    "confusion_matrix_svm = confusion_matrix(y_test, y_test_predict)\n",
    "disp = ConfusionMatrixDisplay(confusion_matrix=confusion_matrix_svm, display_labels=calibrated_svm.classes_)\n",
    "disp.plot(cmap = \"PuRd\")\n",
    "plt.xlabel(\"Predicted Class\")\n",
    "plt.ylabel(\"True Class\")\n",
    "plt.title(\"Confusion Matrix for SVM model\")\n",
    "plt.show()"
   ]
  }
 ],
 "metadata": {
  "kernelspec": {
   "display_name": "base",
   "language": "python",
   "name": "python3"
  },
  "language_info": {
   "codemirror_mode": {
    "name": "ipython",
    "version": 3
   },
   "file_extension": ".py",
   "mimetype": "text/x-python",
   "name": "python",
   "nbconvert_exporter": "python",
   "pygments_lexer": "ipython3",
   "version": "3.9.12"
  },
  "orig_nbformat": 4
 },
 "nbformat": 4,
 "nbformat_minor": 2
}
